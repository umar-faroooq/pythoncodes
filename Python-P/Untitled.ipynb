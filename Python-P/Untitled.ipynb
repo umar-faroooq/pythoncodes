{
 "cells": [
  {
   "cell_type": "code",
   "execution_count": 6,
   "id": "8cd29688-da95-4bb8-9cbc-3a1ef0a08eef",
   "metadata": {},
   "outputs": [
    {
     "data": {
      "text/plain": [
       "(0, 10)"
      ]
     },
     "execution_count": 6,
     "metadata": {},
     "output_type": "execute_result"
    }
   ],
   "source": [
    "s = \"amalayalama\"\n",
    "\n",
    "is_palindrome = True\n",
    "\n",
    "left, right = 0, len(s)-1\n",
    "left, right"
   ]
  },
  {
   "cell_type": "code",
   "execution_count": 7,
   "id": "0f01cc4e-01c6-4058-88bd-72c69ef984bd",
   "metadata": {},
   "outputs": [
    {
     "name": "stdout",
     "output_type": "stream",
     "text": [
      "yes\n"
     ]
    }
   ],
   "source": [
    "while left<right:\n",
    "    if s[left] != s[right]:\n",
    "        is_palindrome = False\n",
    "    left+=1\n",
    "    right -=1\n",
    "    break\n",
    "    \n",
    "if is_palindrome:\n",
    "    print(\"yes\")\n",
    "else:\n",
    "    print(\"No\")"
   ]
  },
  {
   "cell_type": "code",
   "execution_count": 9,
   "id": "dfc7141d-e426-41b2-943e-4ee9a0f00e37",
   "metadata": {},
   "outputs": [
    {
     "name": "stdout",
     "output_type": "stream",
     "text": [
      "Yes\n"
     ]
    }
   ],
   "source": [
    "s = \"malayalam\" # string\n",
    "rev = s[::-1]\n",
    "if s == s[::-1]:\n",
    "    print(\"Yes\")\n",
    "else:\n",
    "    print(\"No\")"
   ]
  },
  {
   "cell_type": "code",
   "execution_count": 10,
   "id": "7425872a-511f-4803-a57c-9e647ab0baef",
   "metadata": {},
   "outputs": [
    {
     "data": {
      "text/plain": [
       "('malayalam', 'malayalam')"
      ]
     },
     "execution_count": 10,
     "metadata": {},
     "output_type": "execute_result"
    }
   ],
   "source": [
    "s, rev"
   ]
  },
  {
   "cell_type": "code",
   "execution_count": 11,
   "id": "9ff227df-d555-4b6e-9fbf-8cfda782fa37",
   "metadata": {},
   "outputs": [
    {
     "name": "stdout",
     "output_type": "stream",
     "text": [
      "m\n",
      "am\n",
      "lam\n",
      "alam\n",
      "yalam\n",
      "ayalam\n",
      "layalam\n",
      "alayalam\n",
      "malayalam\n",
      "Yes\n"
     ]
    }
   ],
   "source": [
    "s = \"malayalam\"  # string\n",
    "rev = \"\"  # to store the reversed string\n",
    "\n",
    "for char in s:\n",
    "    rev = char + rev\n",
    "    print(rev)\n",
    "if s == rev:\n",
    "    print(\"Yes\")\n",
    "else:\n",
    "    print(\"No\")"
   ]
  },
  {
   "cell_type": "code",
   "execution_count": 16,
   "id": "0a424fe7-8c82-496f-b720-e7caaee571a0",
   "metadata": {},
   "outputs": [
    {
     "name": "stdout",
     "output_type": "stream",
     "text": [
      "1\n",
      "21\n",
      "321\n",
      "4321\n",
      "54321\n",
      "554321\n"
     ]
    }
   ],
   "source": [
    "s = [1,2,3,4,5,5]\n",
    "\n",
    "rev = \"\"\n",
    "\n",
    "for num in s:\n",
    "    rev = str(num) + rev\n",
    "    print(rev)\n",
    "# print(list(map(int, rev)))"
   ]
  },
  {
   "cell_type": "code",
   "execution_count": 17,
   "id": "5c09360c-8dbc-4fc7-adad-628e5a985102",
   "metadata": {},
   "outputs": [
    {
     "name": "stdout",
     "output_type": "stream",
     "text": [
      "[5, 5, 4, 3, 2, 1]\n"
     ]
    }
   ],
   "source": [
    "print([int(item) for item in rev ])"
   ]
  },
  {
   "cell_type": "code",
   "execution_count": 18,
   "id": "c29ddac6-1069-4b6f-8792-1a02dbb91772",
   "metadata": {},
   "outputs": [
    {
     "data": {
      "text/plain": [
       "80"
      ]
     },
     "execution_count": 18,
     "metadata": {},
     "output_type": "execute_result"
    }
   ],
   "source": [
    "def add(x, y):\n",
    "    return x + y\n",
    "def do_add(fun, a, b):\n",
    "    return fun(a, b)\n",
    "do_add(add, 45, 35)"
   ]
  },
  {
   "cell_type": "code",
   "execution_count": 25,
   "id": "397c6694-7627-4e9a-8f68-f82f03440f57",
   "metadata": {},
   "outputs": [
    {
     "name": "stdout",
     "output_type": "stream",
     "text": [
      "3628800\n"
     ]
    }
   ],
   "source": [
    "num = 10\n",
    "\n",
    "fact = 1\n",
    "for i in range(1, num+1):\n",
    "    fact *=i\n",
    "print(fact)"
   ]
  },
  {
   "cell_type": "code",
   "execution_count": 27,
   "id": "27741379-4d6c-49db-8883-dd63e6db4330",
   "metadata": {},
   "outputs": [
    {
     "name": "stdout",
     "output_type": "stream",
     "text": [
      "Hello\n",
      "My \n",
      "Friend\n",
      "How \n",
      "Are \n"
     ]
    }
   ],
   "source": [
    "def key_fun(*argss):\n",
    "    for arg in argss:\n",
    "        print(arg)\n",
    "key_fun(\"Hello\", \"My \", \"Friend\", \"How \", \"Are \")"
   ]
  },
  {
   "cell_type": "code",
   "execution_count": 28,
   "id": "08903270-7cb9-4e5d-97ce-675559e4a49f",
   "metadata": {},
   "outputs": [
    {
     "data": {
      "text/plain": [
       "{1: 'Umar', 2: 'RAza', 3: 'Ali', 4: 'Usman'}"
      ]
     },
     "execution_count": 28,
     "metadata": {},
     "output_type": "execute_result"
    }
   ],
   "source": [
    "a = [1, 2,3,4]\n",
    "b = [\"Umar\", \"RAza\", \"Ali\", \"Usman\"]\n",
    "\n",
    "# this line shows dict comprehension here  \n",
    "d = { k:v for (k,v) in zip(a, b)}  \n",
    "d"
   ]
  },
  {
   "cell_type": "code",
   "execution_count": 30,
   "id": "f38ea504-604c-4370-8920-de62b7fa2ca7",
   "metadata": {},
   "outputs": [
    {
     "data": {
      "text/plain": [
       "{1: 'Umar', 2: 'RAza', 3: 'Ali', 4: 'Usman'}"
      ]
     },
     "execution_count": 30,
     "metadata": {},
     "output_type": "execute_result"
    }
   ],
   "source": [
    "\n",
    "# We can use below too\n",
    "d = dict(zip(a, b))  \n",
    "d"
   ]
  },
  {
   "cell_type": "code",
   "execution_count": 31,
   "id": "bcfcc550-b68a-4a60-8fe7-570037b318a0",
   "metadata": {},
   "outputs": [
    {
     "data": {
      "text/plain": [
       "False"
      ]
     },
     "execution_count": 31,
     "metadata": {},
     "output_type": "execute_result"
    }
   ],
   "source": [
    "s = \"Umar\"\n",
    "rev_s = s[::-1]\n",
    "s==rev_s"
   ]
  },
  {
   "cell_type": "code",
   "execution_count": 32,
   "id": "9c4da1e9-02a0-45d1-b95b-6fb11c8d0e49",
   "metadata": {},
   "outputs": [
    {
     "name": "stdout",
     "output_type": "stream",
     "text": [
      "ramU\n"
     ]
    }
   ],
   "source": [
    "re = \"\"\n",
    "for ch in s:\n",
    "    re = ch + re\n",
    "\n",
    "print(re)"
   ]
  },
  {
   "cell_type": "code",
   "execution_count": 33,
   "id": "a6e49f91-4f94-4be9-8f77-7a34086ebf8b",
   "metadata": {},
   "outputs": [
    {
     "data": {
      "text/plain": [
       "(0, 4)"
      ]
     },
     "execution_count": 33,
     "metadata": {},
     "output_type": "execute_result"
    }
   ],
   "source": [
    "i, j = 0, len(s)\n",
    "i, j"
   ]
  },
  {
   "cell_type": "code",
   "execution_count": 37,
   "id": "1d542d93-6e04-4dc3-aaa5-a76d68b49880",
   "metadata": {},
   "outputs": [
    {
     "name": "stdout",
     "output_type": "stream",
     "text": [
      "0\n"
     ]
    }
   ],
   "source": [
    "def fact(n):\n",
    "    \n",
    "    # single line to find factorial\n",
    "    return n if (n==1 or n==0) else n * fact(n - 1) \n",
    "\n",
    "# Driver Code\n",
    "num = 0\n",
    "print(fact(num))"
   ]
  },
  {
   "cell_type": "code",
   "execution_count": null,
   "id": "6971b9f9-7def-471f-bb88-017bb94324e3",
   "metadata": {},
   "outputs": [],
   "source": []
  }
 ],
 "metadata": {
  "kernelspec": {
   "display_name": "Python 3 (ipykernel)",
   "language": "python",
   "name": "python3"
  },
  "language_info": {
   "codemirror_mode": {
    "name": "ipython",
    "version": 3
   },
   "file_extension": ".py",
   "mimetype": "text/x-python",
   "name": "python",
   "nbconvert_exporter": "python",
   "pygments_lexer": "ipython3",
   "version": "3.9.20"
  }
 },
 "nbformat": 4,
 "nbformat_minor": 5
}
