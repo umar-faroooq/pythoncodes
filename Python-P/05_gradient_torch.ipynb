{
 "cells": [
  {
   "cell_type": "code",
   "execution_count": 1,
   "id": "3577edb1-c19f-48fa-9182-9669a49ad96b",
   "metadata": {},
   "outputs": [],
   "source": [
    "import torch\n",
    "\n",
    "# f = w * x\n",
    "\n",
    "# f = 2 * x\n",
    "\n",
    "X = torch.tensor([1,2,3,4], dtype=torch.float32)\n",
    "\n",
    "Y = torch.tensor([2,4,6,8], dtype=torch.float32)\n",
    "\n",
    "w = torch.tensor(0.0, dtype=torch.float32, requires_grad=True)\n"
   ]
  },
  {
   "cell_type": "code",
   "execution_count": 2,
   "id": "ad70893e-138f-41d5-a64e-7d61a6aacf2f",
   "metadata": {},
   "outputs": [
    {
     "name": "stdout",
     "output_type": "stream",
     "text": [
      "prediction before training: f(5) = 0.000\n",
      "epoch 1 : w = 0.300, loss = 30.00000000\n",
      "epoch 11 : w = 1.665, loss = 1.16278565\n",
      "epoch 21 : w = 1.934, loss = 0.04506890\n",
      "epoch 31 : w = 1.987, loss = 0.00174685\n",
      "epoch 41 : w = 1.997, loss = 0.00006770\n",
      "epoch 51 : w = 1.999, loss = 0.00000262\n",
      "epoch 61 : w = 2.000, loss = 0.00000010\n",
      "epoch 71 : w = 2.000, loss = 0.00000000\n",
      "epoch 81 : w = 2.000, loss = 0.00000000\n",
      "epoch 91 : w = 2.000, loss = 0.00000000\n",
      "prediction after training: f(5) = 10.000\n"
     ]
    }
   ],
   "source": [
    "# Model prediciton\n",
    "def forward(x):\n",
    "    return w * x\n",
    "# loss = MSE\n",
    "def loss(y, y_predicted):\n",
    "    return ((y_predicted - y)**2).mean()\n",
    "\n",
    "# gradient\n",
    "\n",
    "# MSE = 1/N * (w * x)**2\n",
    "\n",
    "# dj/dw = 1/N 2x(w*x - y)\n",
    "\n",
    "def gradient(x, y, y_predicted):\n",
    "    return np.dot(2*x, y_predicted-y).mean()\n",
    "print(f'prediction before training: f(5) = {forward(5):.3f}')\n",
    "\n",
    "learning_rate = 0.01\n",
    "n_iters = 100\n",
    "\n",
    "for epoch in range(n_iters):\n",
    "    # prediction = foreard pass\n",
    "    y_pred = forward(X)\n",
    "    l = loss(Y, y_pred)\n",
    "    # gradients = backward pass\n",
    "    l.backward() # dl/dw\n",
    "\n",
    "    # update weights\n",
    "    with torch.no_grad():\n",
    "        w -= learning_rate * w.grad\n",
    "\n",
    "    \n",
    "    # zero the gradients\n",
    "    w.grad.zero_()\n",
    "    \n",
    "    if epoch % 10 == 0:\n",
    "        print(f'epoch {epoch + 1} : w = {w:.3f}, loss = {l:.8f}')\n",
    "        \n",
    "print(f'prediction after training: f(5) = {forward(5):.3f}')"
   ]
  },
  {
   "cell_type": "code",
   "execution_count": 3,
   "id": "1160da16-cddd-40b2-8090-f5379ea2bf85",
   "metadata": {},
   "outputs": [],
   "source": [
    "# design model (input size , output size, forward pass)\n",
    "# 2) construct loss and optimizer\n",
    "# 3) training loop\n",
    "    ##  forward pass: compute prediction\n",
    "    ##  backward pass : gradients\n",
    "    ##  update weights\n",
    "import torch.nn as nn"
   ]
  },
  {
   "cell_type": "code",
   "execution_count": 4,
   "id": "e891d279-3d14-4f11-9171-4b084d3d53fa",
   "metadata": {},
   "outputs": [
    {
     "data": {
      "text/plain": [
       "(torch.Size([4, 1]), torch.Size([4, 1]))"
      ]
     },
     "execution_count": 4,
     "metadata": {},
     "output_type": "execute_result"
    }
   ],
   "source": [
    "import torch\n",
    "\n",
    "# f = w * x\n",
    "\n",
    "# f = 2 * x\n",
    "\n",
    "X = torch.tensor([[1],[2],[3],[4]], dtype=torch.float32)\n",
    "X_test = torch.tensor([5], dtype=torch.float32)\n",
    "Y = torch.tensor([[2],[4],[6],[8]], dtype=torch.float32)\n",
    "\n",
    "w = torch.tensor(0.0, dtype=torch.float32, requires_grad=True)\n",
    "X.shape, Y.shape\n"
   ]
  },
  {
   "cell_type": "code",
   "execution_count": null,
   "id": "aa609477-9bd6-4199-bb98-79daa409c858",
   "metadata": {},
   "outputs": [],
   "source": []
  },
  {
   "cell_type": "code",
   "execution_count": null,
   "id": "86fcd599-284d-4a06-93a3-fcf733e7329e",
   "metadata": {},
   "outputs": [],
   "source": []
  },
  {
   "cell_type": "code",
   "execution_count": 5,
   "id": "a82ee8a7-5fc1-4011-b8d0-aafc22be6244",
   "metadata": {},
   "outputs": [
    {
     "name": "stdout",
     "output_type": "stream",
     "text": [
      "prediction before training: f(5) = 1.670\n",
      "epoch 1,  w = 0.426, loss = 18.57500458\n",
      "epoch 101,  w = 1.699, loss = 0.13120347\n",
      "epoch 201,  w = 1.777, loss = 0.07202908\n",
      "epoch 301,  w = 1.835, loss = 0.03954311\n",
      "epoch 401,  w = 1.878, loss = 0.02170871\n",
      "epoch 501,  w = 1.909, loss = 0.01191781\n",
      "epoch 601,  w = 1.933, loss = 0.00654274\n",
      "epoch 701,  w = 1.950, loss = 0.00359188\n",
      "epoch 801,  w = 1.963, loss = 0.00197190\n",
      "epoch 901,  w = 1.973, loss = 0.00108255\n",
      "prediction after training: f(5) = 9.958\n"
     ]
    }
   ],
   "source": [
    "# model\n",
    "n_samples, n_features = X.shape\n",
    "\n",
    "input_size = n_features\n",
    "output_size = n_features\n",
    "# model = nn.Linear(input_size, output_size)\n",
    "#custom lineaar regression model\n",
    "\n",
    "class LinearRegression(nn.Module):\n",
    "    def __init__(self, input_dim, output_dim):\n",
    "        super(LinearRegression, self).__init__()\n",
    "        # define our layers\n",
    "        self.lin = nn.Linear(input_dim, output_dim)\n",
    "    def forward(self, x):\n",
    "        return self.lin(x)\n",
    "\n",
    "model = LinearRegression(input_size, output_size)\n",
    "print(f'prediction before training: f(5) = {model(X_test).item():.3f}')\n",
    "\n",
    "learning_rate = 0.01\n",
    "n_iters = 1000\n",
    "loss = nn.MSELoss()\n",
    "optimizer = torch.optim.SGD(model.parameters(), lr=learning_rate)\n",
    "for epoch in range(n_iters):\n",
    "    # prediction = foreard pass\n",
    "    y_pred = model(X)\n",
    "    l = loss(Y, y_pred)\n",
    "    # gradients = backward pass\n",
    "    l.backward() # dl/dw\n",
    "\n",
    "    # update weights\n",
    "    optimizer.step()\n",
    "\n",
    "    \n",
    "    # zero the gradients\n",
    "    optimizer.zero_grad()\n",
    "    \n",
    "    if epoch % 100 == 0:\n",
    "        [w, b] = model.parameters()\n",
    "        print(f'epoch {epoch + 1},  w = {w[0][0].item():.3f}, loss = {l:.8f}')\n",
    "        \n",
    "print(f'prediction after training: f(5) = {model(X_test).item():.3f}')"
   ]
  },
  {
   "cell_type": "code",
   "execution_count": null,
   "id": "0dfd3d14-3296-437f-855f-607cbd2dd4a7",
   "metadata": {},
   "outputs": [],
   "source": []
  }
 ],
 "metadata": {
  "kernelspec": {
   "display_name": "Python 3 (ipykernel)",
   "language": "python",
   "name": "python3"
  },
  "language_info": {
   "codemirror_mode": {
    "name": "ipython",
    "version": 3
   },
   "file_extension": ".py",
   "mimetype": "text/x-python",
   "name": "python",
   "nbconvert_exporter": "python",
   "pygments_lexer": "ipython3",
   "version": "3.9.20"
  }
 },
 "nbformat": 4,
 "nbformat_minor": 5
}
