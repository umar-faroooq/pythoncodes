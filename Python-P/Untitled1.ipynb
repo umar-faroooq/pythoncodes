{
 "cells": [
  {
   "cell_type": "code",
   "execution_count": 1,
   "id": "812b5869-4c4e-42d0-997f-6c97040004bf",
   "metadata": {},
   "outputs": [
    {
     "name": "stdout",
     "output_type": "stream",
     "text": [
      "(1000,)\n"
     ]
    }
   ],
   "source": [
    "import numpy as np\n",
    "\n",
    "arr = np.arange(1000)\n",
    "print(arr.shape)  # Output: (1000,)"
   ]
  },
  {
   "cell_type": "code",
   "execution_count": 2,
   "id": "4ce76283-bd4d-47d4-acf5-048f8752bbee",
   "metadata": {},
   "outputs": [
    {
     "name": "stdout",
     "output_type": "stream",
     "text": [
      "(200, 5)\n"
     ]
    }
   ],
   "source": [
    "reshaped = arr.reshape(200, 5)\n",
    "print(reshaped.shape)  # Output: (200, 5)"
   ]
  },
  {
   "cell_type": "code",
   "execution_count": 3,
   "id": "e2834045-f12f-4483-94cc-716a87e2ce0b",
   "metadata": {},
   "outputs": [
    {
     "name": "stdout",
     "output_type": "stream",
     "text": [
      "(4, 1)\n"
     ]
    }
   ],
   "source": [
    "reshaped_to_4x1 = arr[:4].reshape(4, 1)\n",
    "print(reshaped_to_4x1.shape)  # Output: (4, 1)"
   ]
  },
  {
   "cell_type": "code",
   "execution_count": 5,
   "id": "93c7a02f-095a-4c9b-860a-6c746550df01",
   "metadata": {},
   "outputs": [
    {
     "name": "stdout",
     "output_type": "stream",
     "text": [
      "[[ 0  1  2  3  1]\n",
      " [ 5  6  7  8  1]\n",
      " [10 11 12 13  1]\n",
      " [15 16 17 18  0]\n",
      " [20 21 22 23  1]]\n"
     ]
    }
   ],
   "source": [
    "# Step 2: Replace the last column (column index 4) with random 0s and 1s\n",
    "reshaped[:, 4] = np.random.randint(0, 2, size=200)\n",
    "\n",
    "# Step 3: Optional - Print and verify\n",
    "print(reshaped[:5])  # print first 5 rows to check"
   ]
  },
  {
   "cell_type": "code",
   "execution_count": 7,
   "id": "abe6c084-3974-427e-b176-21cd72e8dff4",
   "metadata": {},
   "outputs": [
    {
     "name": "stdout",
     "output_type": "stream",
     "text": [
      "X shape: (200, 4)\n",
      "y shape: (200,)\n",
      "X sample:\n",
      " [[ 0  1  2  3]\n",
      " [ 5  6  7  8]\n",
      " [10 11 12 13]\n",
      " [15 16 17 18]\n",
      " [20 21 22 23]]\n",
      "y sample:\n",
      " [1 1 1 0 1]\n"
     ]
    }
   ],
   "source": [
    "# Step 3: Split into X (features) and y (target)\n",
    "X = reshaped[:, :4]  # all rows, columns 0 to 3\n",
    "y = reshaped[:, 4]   # all rows, column 4\n",
    "\n",
    "# Step 4: Print to verify\n",
    "print(\"X shape:\", X.shape)\n",
    "print(\"y shape:\", y.shape)\n",
    "print(\"X sample:\\n\", X[:5])\n",
    "print(\"y sample:\\n\", y[:5])"
   ]
  },
  {
   "cell_type": "code",
   "execution_count": 8,
   "id": "551e738d-2c96-452d-be91-ba047b5068ad",
   "metadata": {},
   "outputs": [
    {
     "name": "stdout",
     "output_type": "stream",
     "text": [
      "Train X shape: (160, 4)\n",
      "Train y shape: (160,)\n",
      "Test X shape: (40, 4)\n",
      "Test y shape: (40,)\n"
     ]
    }
   ],
   "source": [
    "# Step 3: Shuffle indices\n",
    "np.random.seed(42)  # for reproducibility\n",
    "indices = np.random.permutation(len(X))\n",
    "\n",
    "# Step 4: Compute split point\n",
    "split_idx = int(0.8 * len(X))  # 80% for training\n",
    "\n",
    "# Step 5: Create train/test splits\n",
    "train_idx, test_idx = indices[:split_idx], indices[split_idx:]\n",
    "\n",
    "train_X, test_X = X[train_idx], X[test_idx]\n",
    "train_y, test_y = y[train_idx], y[test_idx]\n",
    "\n",
    "# Step 6: Verify shapes\n",
    "print(\"Train X shape:\", train_X.shape)\n",
    "print(\"Train y shape:\", train_y.shape)\n",
    "print(\"Test X shape:\", test_X.shape)\n",
    "print(\"Test y shape:\", test_y.shape)"
   ]
  },
  {
   "cell_type": "code",
   "execution_count": 9,
   "id": "74473a08-3d92-4e7e-90ce-15ad7578efde",
   "metadata": {},
   "outputs": [],
   "source": [
    "from collections import Counter\n",
    "\n",
    "def euclidean_distance(a, b):\n",
    "    return np.sqrt(np.sum((a - b) ** 2, axis=1))\n",
    "\n",
    "def knn_predict(train_X, train_y, test_X, k=3):\n",
    "    predictions = []\n",
    "    for test_point in test_X:\n",
    "        # Step 1: Compute distances to all training points\n",
    "        distances = euclidean_distance(train_X, test_point)\n",
    "\n",
    "        # Step 2: Get indices of k nearest neighbors\n",
    "        nn_indices = np.argsort(distances)[:k]\n",
    "\n",
    "        # Step 3: Get the labels of nearest neighbors\n",
    "        nn_labels = train_y[nn_indices]\n",
    "\n",
    "        # Step 4: Majority vote\n",
    "        most_common = Counter(nn_labels).most_common(1)[0][0]\n",
    "        predictions.append(most_common)\n",
    "\n",
    "    return np.array(predictions)"
   ]
  },
  {
   "cell_type": "code",
   "execution_count": 27,
   "id": "1972be88-58e8-4712-ab35-0009a41aea94",
   "metadata": {},
   "outputs": [
    {
     "name": "stdout",
     "output_type": "stream",
     "text": [
      "KNN (k=10) Accuracy: 0.60\n"
     ]
    }
   ],
   "source": [
    "# Make predictions on test set\n",
    "k = 10 # choose number of neighbors\n",
    "predictions = knn_predict(train_X, train_y, test_X, k=k)\n",
    "\n",
    "# Calculate accuracy\n",
    "accuracy = np.mean(predictions == test_y)\n",
    "print(f\"KNN (k={k}) Accuracy: {accuracy:.2f}\")"
   ]
  },
  {
   "cell_type": "code",
   "execution_count": null,
   "id": "2a64dc4d-f867-4d30-bf7f-5a0d60bd6416",
   "metadata": {},
   "outputs": [],
   "source": []
  }
 ],
 "metadata": {
  "kernelspec": {
   "display_name": "Python 3 (ipykernel)",
   "language": "python",
   "name": "python3"
  },
  "language_info": {
   "codemirror_mode": {
    "name": "ipython",
    "version": 3
   },
   "file_extension": ".py",
   "mimetype": "text/x-python",
   "name": "python",
   "nbconvert_exporter": "python",
   "pygments_lexer": "ipython3",
   "version": "3.9.20"
  }
 },
 "nbformat": 4,
 "nbformat_minor": 5
}
