{
 "cells": [
  {
   "cell_type": "code",
   "execution_count": 12,
   "id": "ce468aaa-9690-4c55-80ac-1ed6fb7c2a42",
   "metadata": {},
   "outputs": [],
   "source": [
    "import torch\n",
    "import torch.nn as nn\n",
    "import torch.optim as optim"
   ]
  },
  {
   "cell_type": "code",
   "execution_count": 4,
   "id": "ad2bb1b3-4bc2-4d99-9de9-fa7cfead042c",
   "metadata": {},
   "outputs": [],
   "source": [
    "X= torch.rand(100,1)"
   ]
  },
  {
   "cell_type": "code",
   "execution_count": 8,
   "id": "349d93bd-10d2-4723-af3f-927be57b5e87",
   "metadata": {},
   "outputs": [],
   "source": [
    "y = 5 + 3*X\n",
    "# y"
   ]
  },
  {
   "cell_type": "code",
   "execution_count": 19,
   "id": "e0334562-cf5b-4e40-bd6a-9ced5887e49d",
   "metadata": {},
   "outputs": [
    {
     "name": "stdout",
     "output_type": "stream",
     "text": [
      "Epoch [100/1000], Loss: 0.0158\n",
      "Epoch [200/1000], Loss: 0.0041\n",
      "Epoch [300/1000], Loss: 0.0011\n",
      "Epoch [400/1000], Loss: 0.0003\n",
      "Epoch [500/1000], Loss: 0.0001\n",
      "Epoch [600/1000], Loss: 0.0000\n",
      "Epoch [700/1000], Loss: 0.0000\n",
      "Epoch [800/1000], Loss: 0.0000\n",
      "Epoch [900/1000], Loss: 0.0000\n",
      "Epoch [1000/1000], Loss: 0.0000\n"
     ]
    }
   ],
   "source": [
    "class NeuralNetwork(nn.Module):\n",
    "    def __init__(self):\n",
    "        super(NeuralNetwork, self).__init__()\n",
    "        self.linear = nn.Linear(1,1)\n",
    "    def forward(self, x):\n",
    "        return self.linear(x)\n",
    "\n",
    "model = NeuralNetwork()\n",
    "losss = nn.MSELoss()\n",
    "optimizer = optim.SGD(model.parameters(), lr= 0.05)\n",
    "#traininf loop\n",
    "\n",
    "# Training loop\n",
    "epochs = 1000\n",
    "for epoch in range(epochs):\n",
    "    predictions = model(X)\n",
    "    loss = losss(predictions, y)\n",
    "    optimizer.zero_grad()\n",
    "    loss.backward()\n",
    "    optimizer.step()\n",
    "    if (epoch + 1) % 100 == 0:\n",
    "        print(f\"Epoch [{epoch + 1}/{epochs}], Loss: {loss.item():.4f}\")\n",
    "    "
   ]
  },
  {
   "cell_type": "code",
   "execution_count": 20,
   "id": "fe8c3ea9-a0e9-42bf-8a98-9d939c00da4b",
   "metadata": {},
   "outputs": [
    {
     "name": "stdout",
     "output_type": "stream",
     "text": [
      "Learned weight: 2.9990, Learned bias: 5.0005\n",
      "Predictions for [[4.0], [7.0]]: [[16.99654769897461], [25.993568420410156]]\n"
     ]
    }
   ],
   "source": [
    "# Display the learned parameters\n",
    "[w, b] = model.linear.parameters()\n",
    "print(f\"Learned weight: {w.item():.4f}, Learned bias: {b.item():.4f}\")\n",
    "\n",
    "# Testing on new data\n",
    "X_test = torch.tensor([[4.0], [7.0]])\n",
    "with torch.no_grad():\n",
    "    predictions = model(X_test)\n",
    "    print(f\"Predictions for {X_test.tolist()}: {predictions.tolist()}\")"
   ]
  },
  {
   "cell_type": "code",
   "execution_count": null,
   "id": "21d96c8b-2900-48cd-b1f8-84b44c8953ce",
   "metadata": {},
   "outputs": [],
   "source": []
  }
 ],
 "metadata": {
  "kernelspec": {
   "display_name": "Python 3 (ipykernel)",
   "language": "python",
   "name": "python3"
  },
  "language_info": {
   "codemirror_mode": {
    "name": "ipython",
    "version": 3
   },
   "file_extension": ".py",
   "mimetype": "text/x-python",
   "name": "python",
   "nbconvert_exporter": "python",
   "pygments_lexer": "ipython3",
   "version": "3.9.20"
  }
 },
 "nbformat": 4,
 "nbformat_minor": 5
}
