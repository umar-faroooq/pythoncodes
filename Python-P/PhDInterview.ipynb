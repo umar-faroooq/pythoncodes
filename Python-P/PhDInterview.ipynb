{
  "nbformat": 4,
  "nbformat_minor": 0,
  "metadata": {
    "colab": {
      "provenance": []
    },
    "kernelspec": {
      "name": "python3",
      "display_name": "Python 3"
    },
    "language_info": {
      "name": "python"
    }
  },
  "cells": [
    {
      "cell_type": "code",
      "source": [
        "import pandas as pd\n",
        "from sklearn.feature_extraction.text import TfidfVectorizer\n",
        "from sklearn.metrics.pairwise import cosine_similarity\n",
        "import numpy as np"
      ],
      "metadata": {
        "id": "NJ9r6a6AJcu_"
      },
      "execution_count": 24,
      "outputs": []
    },
    {
      "cell_type": "markdown",
      "source": [
        "#ToDO-1: Load Dataset qa_dataset.csv"
      ],
      "metadata": {
        "id": "12rDi1jqJvGe"
      }
    },
    {
      "cell_type": "code",
      "source": [
        "df =                    # complete this line code here;"
      ],
      "metadata": {
        "collapsed": true,
        "id": "O0XHistX7bIc"
      },
      "execution_count": null,
      "outputs": []
    },
    {
      "cell_type": "markdown",
      "source": [
        "#ToDo-2: Vectorize the questions;  to do so you need to fit and transform the question column"
      ],
      "metadata": {
        "id": "BAO-sd0-KZNv"
      }
    },
    {
      "cell_type": "code",
      "source": [
        "vectorizer = TfidfVectorizer()\n",
        "# write the code here"
      ],
      "metadata": {
        "id": "sEGbt3j4KXkt"
      },
      "execution_count": 17,
      "outputs": []
    },
    {
      "cell_type": "markdown",
      "source": [
        "# ToDo-3 & 4: To get response you need define a search function ; Complete the get_ansewr ()"
      ],
      "metadata": {
        "id": "byqXqWoLKCpt"
      }
    },
    {
      "cell_type": "code",
      "source": [
        "\n",
        "def get_answer(user_input):\n",
        "    # TODO-3: Transform the input, compute similarity\n",
        "   user_vec = ...   # transform the input\n",
        "   sim_scores = cosine_similarity(user_vec, tfidf_matrix)\n",
        "    idx = np.argmax(sim_scores)\n",
        "    max_score = sim_scores[0, idx]\n",
        "    ...... # ToDo-4: write a line code here to fix threshold such as if score less than 30% then it will show 'answer not found', otherwise return df.iloc[idx]['answer']\n",
        "   # TODO: Return the best matching answer\n",
        ""
      ],
      "metadata": {
        "id": "kI-nyOEaMkMN"
      },
      "execution_count": null,
      "outputs": []
    },
    {
      "cell_type": "markdown",
      "source": [],
      "metadata": {
        "id": "dVbQ_RrUMLP9"
      }
    },
    {
      "cell_type": "code",
      "source": [
        "# Simple input loop (or can comment this out for test case execution)\n",
        "while True:\n",
        "    user_input = input(\"You: \")\n",
        "    if user_input.lower() == \"exit\":\n",
        "        break\n",
        "    print(\"Bot:\", get_answer(user_input))"
      ],
      "metadata": {
        "id": "T6sofzUXBw8t"
      },
      "execution_count": null,
      "outputs": []
    },
    {
      "cell_type": "markdown",
      "source": [
        "# **After completing the program run and ask to chatbot; **\n",
        " 1. Hi;\n",
        "    Response: hello, how can I help you?\n",
        " 2. Can you provide admission information?;\n",
        "    Response: Ofcourse, which you university are you interested for?\n",
        " 3. City University of London.;\n",
        "    Response: Ofcourse, Details are here."
      ],
      "metadata": {
        "id": "KmIgSnttOu41"
      }
    }
  ]
}